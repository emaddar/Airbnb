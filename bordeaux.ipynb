{
 "cells": [
  {
   "cell_type": "markdown",
   "metadata": {},
   "source": [
    "Import"
   ]
  },
  {
   "cell_type": "code",
   "execution_count": 131,
   "metadata": {},
   "outputs": [],
   "source": [
    "import pandas as pd"
   ]
  },
  {
   "cell_type": "markdown",
   "metadata": {},
   "source": [
    "Read CSV"
   ]
  },
  {
   "cell_type": "code",
   "execution_count": 132,
   "metadata": {},
   "outputs": [],
   "source": [
    "df_bordeaux = pd.read_csv(\"CSV/bordeaux/listings_bordeaux.csv\")\n"
   ]
  },
  {
   "cell_type": "code",
   "execution_count": 133,
   "metadata": {},
   "outputs": [
    {
     "data": {
      "text/plain": [
       "Index(['id', 'listing_url', 'scrape_id', 'last_scraped', 'source', 'name',\n",
       "       'description', 'neighborhood_overview', 'picture_url', 'host_id',\n",
       "       'host_url', 'host_name', 'host_since', 'host_location', 'host_about',\n",
       "       'host_response_time', 'host_response_rate', 'host_acceptance_rate',\n",
       "       'host_is_superhost', 'host_thumbnail_url', 'host_picture_url',\n",
       "       'host_neighbourhood', 'host_listings_count',\n",
       "       'host_total_listings_count', 'host_verifications',\n",
       "       'host_has_profile_pic', 'host_identity_verified', 'neighbourhood',\n",
       "       'neighbourhood_cleansed', 'neighbourhood_group_cleansed', 'latitude',\n",
       "       'longitude', 'property_type', 'room_type', 'accommodates', 'bathrooms',\n",
       "       'bathrooms_text', 'bedrooms', 'beds', 'amenities', 'price',\n",
       "       'minimum_nights', 'maximum_nights', 'minimum_minimum_nights',\n",
       "       'maximum_minimum_nights', 'minimum_maximum_nights',\n",
       "       'maximum_maximum_nights', 'minimum_nights_avg_ntm',\n",
       "       'maximum_nights_avg_ntm', 'calendar_updated', 'has_availability',\n",
       "       'availability_30', 'availability_60', 'availability_90',\n",
       "       'availability_365', 'calendar_last_scraped', 'number_of_reviews',\n",
       "       'number_of_reviews_ltm', 'number_of_reviews_l30d', 'first_review',\n",
       "       'last_review', 'review_scores_rating', 'review_scores_accuracy',\n",
       "       'review_scores_cleanliness', 'review_scores_checkin',\n",
       "       'review_scores_communication', 'review_scores_location',\n",
       "       'review_scores_value', 'license', 'instant_bookable',\n",
       "       'calculated_host_listings_count',\n",
       "       'calculated_host_listings_count_entire_homes',\n",
       "       'calculated_host_listings_count_private_rooms',\n",
       "       'calculated_host_listings_count_shared_rooms', 'reviews_per_month'],\n",
       "      dtype='object')"
      ]
     },
     "execution_count": 133,
     "metadata": {},
     "output_type": "execute_result"
    }
   ],
   "source": [
    "df_bordeaux.columns\n"
   ]
  },
  {
   "cell_type": "markdown",
   "metadata": {},
   "source": [
    "### Question n°1  "
   ]
  },
  {
   "cell_type": "code",
   "execution_count": 134,
   "metadata": {},
   "outputs": [
    {
     "data": {
      "text/html": [
       "<div>\n",
       "<style scoped>\n",
       "    .dataframe tbody tr th:only-of-type {\n",
       "        vertical-align: middle;\n",
       "    }\n",
       "\n",
       "    .dataframe tbody tr th {\n",
       "        vertical-align: top;\n",
       "    }\n",
       "\n",
       "    .dataframe thead th {\n",
       "        text-align: right;\n",
       "    }\n",
       "</style>\n",
       "<table border=\"1\" class=\"dataframe\">\n",
       "  <thead>\n",
       "    <tr style=\"text-align: right;\">\n",
       "      <th></th>\n",
       "      <th>host count</th>\n",
       "      <th>sum reviews</th>\n",
       "    </tr>\n",
       "    <tr>\n",
       "      <th>neighbourhood_cleansed</th>\n",
       "      <th></th>\n",
       "      <th></th>\n",
       "    </tr>\n",
       "  </thead>\n",
       "  <tbody>\n",
       "    <tr>\n",
       "      <th>3M-Bourgailh</th>\n",
       "      <td>8</td>\n",
       "      <td>98</td>\n",
       "    </tr>\n",
       "    <tr>\n",
       "      <th>Ambars-et-Lagrave</th>\n",
       "      <td>65</td>\n",
       "      <td>904</td>\n",
       "    </tr>\n",
       "    <tr>\n",
       "      <th>Ambs</th>\n",
       "      <td>49</td>\n",
       "      <td>1714</td>\n",
       "    </tr>\n",
       "    <tr>\n",
       "      <th>Arago-La Chataigneraie</th>\n",
       "      <td>43</td>\n",
       "      <td>1583</td>\n",
       "    </tr>\n",
       "    <tr>\n",
       "      <th>Arlac</th>\n",
       "      <td>90</td>\n",
       "      <td>2973</td>\n",
       "    </tr>\n",
       "    <tr>\n",
       "      <th>...</th>\n",
       "      <td>...</td>\n",
       "      <td>...</td>\n",
       "    </tr>\n",
       "    <tr>\n",
       "      <th>Sardine</th>\n",
       "      <td>17</td>\n",
       "      <td>788</td>\n",
       "    </tr>\n",
       "    <tr>\n",
       "      <th>Talence</th>\n",
       "      <td>429</td>\n",
       "      <td>13571</td>\n",
       "    </tr>\n",
       "    <tr>\n",
       "      <th>Toctoucau</th>\n",
       "      <td>16</td>\n",
       "      <td>479</td>\n",
       "    </tr>\n",
       "    <tr>\n",
       "      <th>Verthamon</th>\n",
       "      <td>24</td>\n",
       "      <td>799</td>\n",
       "    </tr>\n",
       "    <tr>\n",
       "      <th>Villenave-d'Ornon</th>\n",
       "      <td>287</td>\n",
       "      <td>9264</td>\n",
       "    </tr>\n",
       "  </tbody>\n",
       "</table>\n",
       "<p>62 rows × 2 columns</p>\n",
       "</div>"
      ],
      "text/plain": [
       "                        host count  sum reviews\n",
       "neighbourhood_cleansed                         \n",
       "3M-Bourgailh                     8           98\n",
       "Ambars-et-Lagrave               65          904\n",
       "Ambs                            49         1714\n",
       "Arago-La Chataigneraie          43         1583\n",
       "Arlac                           90         2973\n",
       "...                            ...          ...\n",
       "Sardine                         17          788\n",
       "Talence                        429        13571\n",
       "Toctoucau                       16          479\n",
       "Verthamon                       24          799\n",
       "Villenave-d'Ornon              287         9264\n",
       "\n",
       "[62 rows x 2 columns]"
      ]
     },
     "execution_count": 134,
     "metadata": {},
     "output_type": "execute_result"
    }
   ],
   "source": [
    "df_bordeaux.groupby(\"neighbourhood_cleansed\").apply(lambda s: pd.Series({ \n",
    "    \"host count\": s[\"host_id\"].nunique(), \n",
    "    \"sum reviews\": s[\"number_of_reviews\"].sum(), \n",
    "}))"
   ]
  },
  {
   "cell_type": "markdown",
   "metadata": {},
   "source": [
    "### Question n°2"
   ]
  },
  {
   "cell_type": "code",
   "execution_count": 135,
   "metadata": {},
   "outputs": [
    {
     "data": {
      "text/plain": [
       "82.1015107341638"
      ]
     },
     "execution_count": 135,
     "metadata": {},
     "output_type": "execute_result"
    }
   ],
   "source": [
    "df_host_acceptance_rate=df_bordeaux[\"host_acceptance_rate\"].str.rstrip('%').astype(float)\n",
    "\n",
    "df_host_acceptance_rate.mean()"
   ]
  },
  {
   "cell_type": "code",
   "execution_count": 136,
   "metadata": {},
   "outputs": [
    {
     "data": {
      "text/plain": [
       "93.4806598407281"
      ]
     },
     "execution_count": 136,
     "metadata": {},
     "output_type": "execute_result"
    }
   ],
   "source": [
    "df_host_response_rate=df_bordeaux[\"host_response_rate\"].str.rstrip('%').astype(float)\n",
    "\n",
    "df_host_response_rate.mean()"
   ]
  },
  {
   "cell_type": "markdown",
   "metadata": {},
   "source": [
    "### Question n°3"
   ]
  },
  {
   "cell_type": "code",
   "execution_count": 137,
   "metadata": {},
   "outputs": [
    {
     "data": {
      "text/html": [
       "<div>\n",
       "<style scoped>\n",
       "    .dataframe tbody tr th:only-of-type {\n",
       "        vertical-align: middle;\n",
       "    }\n",
       "\n",
       "    .dataframe tbody tr th {\n",
       "        vertical-align: top;\n",
       "    }\n",
       "\n",
       "    .dataframe thead th {\n",
       "        text-align: right;\n",
       "    }\n",
       "</style>\n",
       "<table border=\"1\" class=\"dataframe\">\n",
       "  <thead>\n",
       "    <tr style=\"text-align: right;\">\n",
       "      <th></th>\n",
       "      <th>id</th>\n",
       "    </tr>\n",
       "    <tr>\n",
       "      <th>host_verifications</th>\n",
       "      <th></th>\n",
       "    </tr>\n",
       "  </thead>\n",
       "  <tbody>\n",
       "    <tr>\n",
       "      <th>['email', 'phone', 'work_email']</th>\n",
       "      <td>6.219568</td>\n",
       "    </tr>\n",
       "    <tr>\n",
       "      <th>['email', 'phone']</th>\n",
       "      <td>85.319247</td>\n",
       "    </tr>\n",
       "    <tr>\n",
       "      <th>['email', 'work_email']</th>\n",
       "      <td>0.009187</td>\n",
       "    </tr>\n",
       "    <tr>\n",
       "      <th>['email']</th>\n",
       "      <td>0.413413</td>\n",
       "    </tr>\n",
       "    <tr>\n",
       "      <th>['phone', 'work_email']</th>\n",
       "      <td>0.220487</td>\n",
       "    </tr>\n",
       "    <tr>\n",
       "      <th>['phone']</th>\n",
       "      <td>7.533303</td>\n",
       "    </tr>\n",
       "    <tr>\n",
       "      <th>[]</th>\n",
       "      <td>0.284796</td>\n",
       "    </tr>\n",
       "  </tbody>\n",
       "</table>\n",
       "</div>"
      ],
      "text/plain": [
       "                                         id\n",
       "host_verifications                         \n",
       "['email', 'phone', 'work_email']   6.219568\n",
       "['email', 'phone']                85.319247\n",
       "['email', 'work_email']            0.009187\n",
       "['email']                          0.413413\n",
       "['phone', 'work_email']            0.220487\n",
       "['phone']                          7.533303\n",
       "[]                                 0.284796"
      ]
     },
     "execution_count": 137,
     "metadata": {},
     "output_type": "execute_result"
    }
   ],
   "source": [
    "df_bordeaux[['id',\"host_verifications\"]].groupby(\"host_verifications\").count()/len(df_bordeaux)*100"
   ]
  },
  {
   "cell_type": "code",
   "execution_count": 138,
   "metadata": {},
   "outputs": [],
   "source": [
    "df_bordeaux.replace(to_replace=\"work_email\", value='work', regex=True,inplace=True)"
   ]
  },
  {
   "cell_type": "code",
   "execution_count": 139,
   "metadata": {},
   "outputs": [
    {
     "name": "stdout",
     "output_type": "stream",
     "text": [
      "Il y a 10010 personnes qui utilise un email pour la vérification soit 91.96141479099678 %\n",
      "Il y a 10808 personnes qui utilise un téléphone pour la vérification soit 99.29260450160771 %\n",
      "Il y a 702 personnes qui utilise un email pro pour la vérification soit 6.449242076251722 %\n",
      "Il y a 31 personnes qui n'ont pas  pour la vérification soit 0.2847955902618282 %\n"
     ]
    }
   ],
   "source": [
    "email = df_bordeaux[\"host_verifications\"].apply(lambda elt: 1 if 'email' in elt else 0 ).sum()\n",
    "phone = df_bordeaux[\"host_verifications\"].apply(lambda elt: 1 if 'phone' in elt else 0 ).sum()\n",
    "work = df_bordeaux[\"host_verifications\"].apply(lambda elt: 1 if 'work' in elt else 0 ).sum()\n",
    "vide = df_bordeaux[\"host_verifications\"].apply(lambda elt: 1 if elt == \"[]\" else 0 ).sum()\n",
    "  \n",
    "print(\"Il y a {0} personnes qui utilise un email pour la vérification soit {1} %\".format(email,email/len(df_bordeaux)*100))\n",
    "print(\"Il y a {0} personnes qui utilise un téléphone pour la vérification soit {1} %\".format(phone,phone/len(df_bordeaux)*100))\n",
    "print(\"Il y a {0} personnes qui utilise un email pro pour la vérification soit {1} %\".format(work,work/len(df_bordeaux)*100))\n",
    "print(\"Il y a {0} personnes qui n'ont pas  pour la vérification soit {1} %\".format(vide,vide/len(df_bordeaux)*100))"
   ]
  }
 ],
 "metadata": {
  "kernelspec": {
   "display_name": "Python 3.9.15 ('envdata')",
   "language": "python",
   "name": "python3"
  },
  "language_info": {
   "codemirror_mode": {
    "name": "ipython",
    "version": 3
   },
   "file_extension": ".py",
   "mimetype": "text/x-python",
   "name": "python",
   "nbconvert_exporter": "python",
   "pygments_lexer": "ipython3",
   "version": "3.9.15"
  },
  "orig_nbformat": 4,
  "vscode": {
   "interpreter": {
    "hash": "8a7d6de6d4c96ae5c9259ec6c5c5b0ed2327d657731542d2a999ddfbc99a240c"
   }
  }
 },
 "nbformat": 4,
 "nbformat_minor": 2
}
