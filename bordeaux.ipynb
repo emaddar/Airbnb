{
 "cells": [
  {
   "cell_type": "markdown",
   "metadata": {},
   "source": [
    "Import"
   ]
  },
  {
   "cell_type": "code",
   "execution_count": 667,
   "metadata": {},
   "outputs": [],
   "source": [
    "import pandas as pd\n",
    "import re"
   ]
  },
  {
   "cell_type": "markdown",
   "metadata": {},
   "source": [
    "Read CSV"
   ]
  },
  {
   "cell_type": "code",
   "execution_count": 668,
   "metadata": {},
   "outputs": [],
   "source": [
    "df_bordeaux = pd.read_csv(\"CSV/bordeaux/listings_am.csv\")\n"
   ]
  },
  {
   "cell_type": "code",
   "execution_count": 669,
   "metadata": {},
   "outputs": [
    {
     "data": {
      "text/plain": [
       "Index(['id', 'listing_url', 'scrape_id', 'last_scraped', 'source', 'name',\n",
       "       'description', 'neighborhood_overview', 'picture_url', 'host_id',\n",
       "       'host_url', 'host_name', 'host_since', 'host_location', 'host_about',\n",
       "       'host_response_time', 'host_response_rate', 'host_acceptance_rate',\n",
       "       'host_is_superhost', 'host_thumbnail_url', 'host_picture_url',\n",
       "       'host_neighbourhood', 'host_listings_count',\n",
       "       'host_total_listings_count', 'host_verifications',\n",
       "       'host_has_profile_pic', 'host_identity_verified', 'neighbourhood',\n",
       "       'neighbourhood_cleansed', 'neighbourhood_group_cleansed', 'latitude',\n",
       "       'longitude', 'property_type', 'room_type', 'accommodates', 'bathrooms',\n",
       "       'bathrooms_text', 'bedrooms', 'beds', 'amenities', 'price',\n",
       "       'minimum_nights', 'maximum_nights', 'minimum_minimum_nights',\n",
       "       'maximum_minimum_nights', 'minimum_maximum_nights',\n",
       "       'maximum_maximum_nights', 'minimum_nights_avg_ntm',\n",
       "       'maximum_nights_avg_ntm', 'calendar_updated', 'has_availability',\n",
       "       'availability_30', 'availability_60', 'availability_90',\n",
       "       'availability_365', 'calendar_last_scraped', 'number_of_reviews',\n",
       "       'number_of_reviews_ltm', 'number_of_reviews_l30d', 'first_review',\n",
       "       'last_review', 'review_scores_rating', 'review_scores_accuracy',\n",
       "       'review_scores_cleanliness', 'review_scores_checkin',\n",
       "       'review_scores_communication', 'review_scores_location',\n",
       "       'review_scores_value', 'license', 'instant_bookable',\n",
       "       'calculated_host_listings_count',\n",
       "       'calculated_host_listings_count_entire_homes',\n",
       "       'calculated_host_listings_count_private_rooms',\n",
       "       'calculated_host_listings_count_shared_rooms', 'reviews_per_month'],\n",
       "      dtype='object')"
      ]
     },
     "execution_count": 669,
     "metadata": {},
     "output_type": "execute_result"
    }
   ],
   "source": [
    "df_bordeaux.columns\n"
   ]
  },
  {
   "cell_type": "markdown",
   "metadata": {},
   "source": [
    "### Question n°1  "
   ]
  },
  {
   "cell_type": "code",
   "execution_count": 670,
   "metadata": {},
   "outputs": [
    {
     "data": {
      "text/html": [
       "<div>\n",
       "<style scoped>\n",
       "    .dataframe tbody tr th:only-of-type {\n",
       "        vertical-align: middle;\n",
       "    }\n",
       "\n",
       "    .dataframe tbody tr th {\n",
       "        vertical-align: top;\n",
       "    }\n",
       "\n",
       "    .dataframe thead th {\n",
       "        text-align: right;\n",
       "    }\n",
       "</style>\n",
       "<table border=\"1\" class=\"dataframe\">\n",
       "  <thead>\n",
       "    <tr style=\"text-align: right;\">\n",
       "      <th></th>\n",
       "      <th>host count</th>\n",
       "      <th>sum reviews</th>\n",
       "    </tr>\n",
       "    <tr>\n",
       "      <th>neighbourhood_cleansed</th>\n",
       "      <th></th>\n",
       "      <th></th>\n",
       "    </tr>\n",
       "  </thead>\n",
       "  <tbody>\n",
       "    <tr>\n",
       "      <th>Bijlmer-Centrum</th>\n",
       "      <td>76</td>\n",
       "      <td>4964</td>\n",
       "    </tr>\n",
       "    <tr>\n",
       "      <th>Bijlmer-Oost</th>\n",
       "      <td>29</td>\n",
       "      <td>983</td>\n",
       "    </tr>\n",
       "    <tr>\n",
       "      <th>Bos en Lommer</th>\n",
       "      <td>284</td>\n",
       "      <td>10586</td>\n",
       "    </tr>\n",
       "    <tr>\n",
       "      <th>Buitenveldert - Zuidas</th>\n",
       "      <td>111</td>\n",
       "      <td>5691</td>\n",
       "    </tr>\n",
       "    <tr>\n",
       "      <th>Centrum-Oost</th>\n",
       "      <td>489</td>\n",
       "      <td>45227</td>\n",
       "    </tr>\n",
       "    <tr>\n",
       "      <th>Centrum-West</th>\n",
       "      <td>674</td>\n",
       "      <td>69068</td>\n",
       "    </tr>\n",
       "    <tr>\n",
       "      <th>De Aker - Nieuw Sloten</th>\n",
       "      <td>69</td>\n",
       "      <td>6330</td>\n",
       "    </tr>\n",
       "    <tr>\n",
       "      <th>De Baarsjes - Oud-West</th>\n",
       "      <td>916</td>\n",
       "      <td>40372</td>\n",
       "    </tr>\n",
       "    <tr>\n",
       "      <th>De Pijp - Rivierenbuurt</th>\n",
       "      <td>644</td>\n",
       "      <td>30418</td>\n",
       "    </tr>\n",
       "    <tr>\n",
       "      <th>Gaasperdam - Driemond</th>\n",
       "      <td>74</td>\n",
       "      <td>5042</td>\n",
       "    </tr>\n",
       "    <tr>\n",
       "      <th>Geuzenveld - Slotermeer</th>\n",
       "      <td>86</td>\n",
       "      <td>5260</td>\n",
       "    </tr>\n",
       "    <tr>\n",
       "      <th>IJburg - Zeeburgereiland</th>\n",
       "      <td>157</td>\n",
       "      <td>6088</td>\n",
       "    </tr>\n",
       "    <tr>\n",
       "      <th>Noord-Oost</th>\n",
       "      <td>159</td>\n",
       "      <td>10004</td>\n",
       "    </tr>\n",
       "    <tr>\n",
       "      <th>Noord-West</th>\n",
       "      <td>181</td>\n",
       "      <td>7776</td>\n",
       "    </tr>\n",
       "    <tr>\n",
       "      <th>Oostelijk Havengebied - Indische Buurt</th>\n",
       "      <td>224</td>\n",
       "      <td>9500</td>\n",
       "    </tr>\n",
       "    <tr>\n",
       "      <th>Osdorp</th>\n",
       "      <td>54</td>\n",
       "      <td>6921</td>\n",
       "    </tr>\n",
       "    <tr>\n",
       "      <th>Oud-Noord</th>\n",
       "      <td>225</td>\n",
       "      <td>13076</td>\n",
       "    </tr>\n",
       "    <tr>\n",
       "      <th>Oud-Oost</th>\n",
       "      <td>338</td>\n",
       "      <td>14037</td>\n",
       "    </tr>\n",
       "    <tr>\n",
       "      <th>Slotervaart</th>\n",
       "      <td>100</td>\n",
       "      <td>6078</td>\n",
       "    </tr>\n",
       "    <tr>\n",
       "      <th>Watergraafsmeer</th>\n",
       "      <td>211</td>\n",
       "      <td>9156</td>\n",
       "    </tr>\n",
       "    <tr>\n",
       "      <th>Westerpark</th>\n",
       "      <td>403</td>\n",
       "      <td>16829</td>\n",
       "    </tr>\n",
       "    <tr>\n",
       "      <th>Zuid</th>\n",
       "      <td>372</td>\n",
       "      <td>19498</td>\n",
       "    </tr>\n",
       "  </tbody>\n",
       "</table>\n",
       "</div>"
      ],
      "text/plain": [
       "                                        host count  sum reviews\n",
       "neighbourhood_cleansed                                         \n",
       "Bijlmer-Centrum                                 76         4964\n",
       "Bijlmer-Oost                                    29          983\n",
       "Bos en Lommer                                  284        10586\n",
       "Buitenveldert - Zuidas                         111         5691\n",
       "Centrum-Oost                                   489        45227\n",
       "Centrum-West                                   674        69068\n",
       "De Aker - Nieuw Sloten                          69         6330\n",
       "De Baarsjes - Oud-West                         916        40372\n",
       "De Pijp - Rivierenbuurt                        644        30418\n",
       "Gaasperdam - Driemond                           74         5042\n",
       "Geuzenveld - Slotermeer                         86         5260\n",
       "IJburg - Zeeburgereiland                       157         6088\n",
       "Noord-Oost                                     159        10004\n",
       "Noord-West                                     181         7776\n",
       "Oostelijk Havengebied - Indische Buurt         224         9500\n",
       "Osdorp                                          54         6921\n",
       "Oud-Noord                                      225        13076\n",
       "Oud-Oost                                       338        14037\n",
       "Slotervaart                                    100         6078\n",
       "Watergraafsmeer                                211         9156\n",
       "Westerpark                                     403        16829\n",
       "Zuid                                           372        19498"
      ]
     },
     "execution_count": 670,
     "metadata": {},
     "output_type": "execute_result"
    }
   ],
   "source": [
    "df_bordeaux.groupby(\"neighbourhood_cleansed\").apply(lambda s: pd.Series({ \n",
    "    \"host count\": s[\"host_id\"].nunique(), \n",
    "    \"sum reviews\": s[\"number_of_reviews\"].sum(), \n",
    "}))"
   ]
  },
  {
   "cell_type": "markdown",
   "metadata": {},
   "source": [
    "### Question n°2"
   ]
  },
  {
   "cell_type": "code",
   "execution_count": 671,
   "metadata": {},
   "outputs": [
    {
     "data": {
      "text/plain": [
       "80.17012104128669"
      ]
     },
     "execution_count": 671,
     "metadata": {},
     "output_type": "execute_result"
    }
   ],
   "source": [
    "df_host_acceptance_rate=df_bordeaux[\"host_acceptance_rate\"].str.rstrip('%').astype(float)\n",
    "\n",
    "df_host_acceptance_rate.mean()"
   ]
  },
  {
   "cell_type": "code",
   "execution_count": 672,
   "metadata": {},
   "outputs": [
    {
     "data": {
      "text/plain": [
       "94.96734148204736"
      ]
     },
     "execution_count": 672,
     "metadata": {},
     "output_type": "execute_result"
    }
   ],
   "source": [
    "df_host_response_rate=df_bordeaux[\"host_response_rate\"].str.rstrip('%').astype(float)\n",
    "\n",
    "df_host_response_rate.mean()"
   ]
  },
  {
   "cell_type": "markdown",
   "metadata": {},
   "source": [
    "### Question n°3"
   ]
  },
  {
   "cell_type": "code",
   "execution_count": 673,
   "metadata": {},
   "outputs": [
    {
     "data": {
      "text/html": [
       "<div>\n",
       "<style scoped>\n",
       "    .dataframe tbody tr th:only-of-type {\n",
       "        vertical-align: middle;\n",
       "    }\n",
       "\n",
       "    .dataframe tbody tr th {\n",
       "        vertical-align: top;\n",
       "    }\n",
       "\n",
       "    .dataframe thead th {\n",
       "        text-align: right;\n",
       "    }\n",
       "</style>\n",
       "<table border=\"1\" class=\"dataframe\">\n",
       "  <thead>\n",
       "    <tr style=\"text-align: right;\">\n",
       "      <th></th>\n",
       "      <th>id</th>\n",
       "    </tr>\n",
       "    <tr>\n",
       "      <th>host_verifications</th>\n",
       "      <th></th>\n",
       "    </tr>\n",
       "  </thead>\n",
       "  <tbody>\n",
       "    <tr>\n",
       "      <th>['email', 'phone', 'work_email']</th>\n",
       "      <td>12.737560</td>\n",
       "    </tr>\n",
       "    <tr>\n",
       "      <th>['email', 'phone']</th>\n",
       "      <td>80.008704</td>\n",
       "    </tr>\n",
       "    <tr>\n",
       "      <th>['email']</th>\n",
       "      <td>0.072537</td>\n",
       "    </tr>\n",
       "    <tr>\n",
       "      <th>['phone', 'work_email']</th>\n",
       "      <td>0.290149</td>\n",
       "    </tr>\n",
       "    <tr>\n",
       "      <th>['phone']</th>\n",
       "      <td>6.644422</td>\n",
       "    </tr>\n",
       "    <tr>\n",
       "      <th>[]</th>\n",
       "      <td>0.246627</td>\n",
       "    </tr>\n",
       "  </tbody>\n",
       "</table>\n",
       "</div>"
      ],
      "text/plain": [
       "                                         id\n",
       "host_verifications                         \n",
       "['email', 'phone', 'work_email']  12.737560\n",
       "['email', 'phone']                80.008704\n",
       "['email']                          0.072537\n",
       "['phone', 'work_email']            0.290149\n",
       "['phone']                          6.644422\n",
       "[]                                 0.246627"
      ]
     },
     "execution_count": 673,
     "metadata": {},
     "output_type": "execute_result"
    }
   ],
   "source": [
    "df_bordeaux[['id',\"host_verifications\"]].groupby(\"host_verifications\").count()/len(df_bordeaux)*100"
   ]
  },
  {
   "cell_type": "code",
   "execution_count": 674,
   "metadata": {},
   "outputs": [],
   "source": [
    "df_bordeaux.replace(to_replace=\"work_email\", value='work', regex=True,inplace=True)"
   ]
  },
  {
   "cell_type": "code",
   "execution_count": 675,
   "metadata": {},
   "outputs": [
    {
     "name": "stdout",
     "output_type": "stream",
     "text": [
      "Il y a 6398 personnes qui utilise un email pour la vérification soit 92.81880168286668 %\n",
      "Il y a 6871 personnes qui utilise un téléphone pour la vérification soit 99.68083563034963 %\n",
      "Il y a 898 personnes qui utilise un email pro pour la vérification soit 13.02770927027419 %\n",
      "Il y a 17 personnes qui n'ont pas  pour la vérification soit 0.24662701291164948 %\n"
     ]
    }
   ],
   "source": [
    "email = df_bordeaux[\"host_verifications\"].apply(lambda elt: 1 if 'email' in elt else 0 ).sum()\n",
    "phone = df_bordeaux[\"host_verifications\"].apply(lambda elt: 1 if 'phone' in elt else 0 ).sum()\n",
    "work = df_bordeaux[\"host_verifications\"].apply(lambda elt: 1 if 'work' in elt else 0 ).sum()\n",
    "vide = df_bordeaux[\"host_verifications\"].apply(lambda elt: 1 if elt == \"[]\" else 0 ).sum()\n",
    "  \n",
    "print(\"Il y a {0} personnes qui utilise un email pour la vérification soit {1} %\".format(email,email/len(df_bordeaux)*100))\n",
    "print(\"Il y a {0} personnes qui utilise un téléphone pour la vérification soit {1} %\".format(phone,phone/len(df_bordeaux)*100))\n",
    "print(\"Il y a {0} personnes qui utilise un email pro pour la vérification soit {1} %\".format(work,work/len(df_bordeaux)*100))\n",
    "print(\"Il y a {0} personnes qui n'ont pas  pour la vérification soit {1} %\".format(vide,vide/len(df_bordeaux)*100))"
   ]
  },
  {
   "cell_type": "markdown",
   "metadata": {},
   "source": [
    "### Question n°4"
   ]
  },
  {
   "cell_type": "code",
   "execution_count": 676,
   "metadata": {},
   "outputs": [],
   "source": [
    "df_bordeaux[\"np_amenities\"] =  df_bordeaux['amenities'].apply(lambda elt: re.sub(\"\\[|\\]|\\\"\",\"\",elt))\n",
    "df_bordeaux[\"np_amenities\"] = df_bordeaux[\"np_amenities\"].apply(lambda elt: elt.split(\",\"))\n"
   ]
  },
  {
   "cell_type": "code",
   "execution_count": 677,
   "metadata": {},
   "outputs": [],
   "source": [
    "df_bordeaux[\"np_amenities\"] =  df_bordeaux[\"np_amenities\"].apply(lambda x: len(x))\n"
   ]
  },
  {
   "cell_type": "code",
   "execution_count": 678,
   "metadata": {},
   "outputs": [
    {
     "data": {
      "text/html": [
       "<div>\n",
       "<style scoped>\n",
       "    .dataframe tbody tr th:only-of-type {\n",
       "        vertical-align: middle;\n",
       "    }\n",
       "\n",
       "    .dataframe tbody tr th {\n",
       "        vertical-align: top;\n",
       "    }\n",
       "\n",
       "    .dataframe thead tr th {\n",
       "        text-align: left;\n",
       "    }\n",
       "\n",
       "    .dataframe thead tr:last-of-type th {\n",
       "        text-align: right;\n",
       "    }\n",
       "</style>\n",
       "<table border=\"1\" class=\"dataframe\">\n",
       "  <thead>\n",
       "    <tr>\n",
       "      <th></th>\n",
       "      <th colspan=\"2\" halign=\"left\">np_amenities</th>\n",
       "    </tr>\n",
       "    <tr>\n",
       "      <th></th>\n",
       "      <th>mean</th>\n",
       "      <th>std</th>\n",
       "    </tr>\n",
       "    <tr>\n",
       "      <th>room_type</th>\n",
       "      <th></th>\n",
       "      <th></th>\n",
       "    </tr>\n",
       "  </thead>\n",
       "  <tbody>\n",
       "    <tr>\n",
       "      <th>Entire home/apt</th>\n",
       "      <td>30.321617</td>\n",
       "      <td>14.252961</td>\n",
       "    </tr>\n",
       "    <tr>\n",
       "      <th>Hotel room</th>\n",
       "      <td>22.653333</td>\n",
       "      <td>9.515980</td>\n",
       "    </tr>\n",
       "    <tr>\n",
       "      <th>Private room</th>\n",
       "      <td>25.866057</td>\n",
       "      <td>12.292752</td>\n",
       "    </tr>\n",
       "    <tr>\n",
       "      <th>Shared room</th>\n",
       "      <td>13.675676</td>\n",
       "      <td>8.100254</td>\n",
       "    </tr>\n",
       "  </tbody>\n",
       "</table>\n",
       "</div>"
      ],
      "text/plain": [
       "                np_amenities           \n",
       "                        mean        std\n",
       "room_type                              \n",
       "Entire home/apt    30.321617  14.252961\n",
       "Hotel room         22.653333   9.515980\n",
       "Private room       25.866057  12.292752\n",
       "Shared room        13.675676   8.100254"
      ]
     },
     "execution_count": 678,
     "metadata": {},
     "output_type": "execute_result"
    }
   ],
   "source": [
    "df_bordeaux[[\"np_amenities\",\"room_type\"]].groupby('room_type').agg([\"mean\",\"std\"])"
   ]
  },
  {
   "cell_type": "markdown",
   "metadata": {},
   "source": [
    "### Question n° 5"
   ]
  },
  {
   "cell_type": "code",
   "execution_count": 679,
   "metadata": {},
   "outputs": [
    {
     "name": "stderr",
     "output_type": "stream",
     "text": [
      "/tmp/ipykernel_6245/484732451.py:2: FutureWarning: The default value of regex will change from True to False in a future version. In addition, single character regular expressions will *not* be treated as literal strings when regex=True.\n",
      "  df_bordeaux[\"price\"]= df_bordeaux[\"price\"].str.replace('$',\"\").astype(float)\n"
     ]
    }
   ],
   "source": [
    "df_bordeaux[\"price\"]= df_bordeaux[\"price\"].str.replace(',',\"\")\n",
    "df_bordeaux[\"price\"]= df_bordeaux[\"price\"].str.replace('$',\"\").astype(float)"
   ]
  },
  {
   "cell_type": "code",
   "execution_count": 680,
   "metadata": {},
   "outputs": [],
   "source": [
    "def q1(x):\n",
    "    return x.quantile(0.25)\n",
    "def q3(x):\n",
    "    return x.quantile(0.75)"
   ]
  },
  {
   "cell_type": "code",
   "execution_count": 681,
   "metadata": {},
   "outputs": [
    {
     "data": {
      "text/html": [
       "<div>\n",
       "<style scoped>\n",
       "    .dataframe tbody tr th:only-of-type {\n",
       "        vertical-align: middle;\n",
       "    }\n",
       "\n",
       "    .dataframe tbody tr th {\n",
       "        vertical-align: top;\n",
       "    }\n",
       "\n",
       "    .dataframe thead tr th {\n",
       "        text-align: left;\n",
       "    }\n",
       "\n",
       "    .dataframe thead tr:last-of-type th {\n",
       "        text-align: right;\n",
       "    }\n",
       "</style>\n",
       "<table border=\"1\" class=\"dataframe\">\n",
       "  <thead>\n",
       "    <tr>\n",
       "      <th></th>\n",
       "      <th colspan=\"5\" halign=\"left\">price</th>\n",
       "    </tr>\n",
       "    <tr>\n",
       "      <th></th>\n",
       "      <th>median</th>\n",
       "      <th>max</th>\n",
       "      <th>min</th>\n",
       "      <th>q1</th>\n",
       "      <th>q3</th>\n",
       "    </tr>\n",
       "    <tr>\n",
       "      <th>room_type</th>\n",
       "      <th></th>\n",
       "      <th></th>\n",
       "      <th></th>\n",
       "      <th></th>\n",
       "      <th></th>\n",
       "    </tr>\n",
       "  </thead>\n",
       "  <tbody>\n",
       "    <tr>\n",
       "      <th>Entire home/apt</th>\n",
       "      <td>200.0</td>\n",
       "      <td>7900.0</td>\n",
       "      <td>15.0</td>\n",
       "      <td>143.0</td>\n",
       "      <td>285.0</td>\n",
       "    </tr>\n",
       "    <tr>\n",
       "      <th>Hotel room</th>\n",
       "      <td>222.0</td>\n",
       "      <td>999.0</td>\n",
       "      <td>0.0</td>\n",
       "      <td>114.5</td>\n",
       "      <td>271.0</td>\n",
       "    </tr>\n",
       "    <tr>\n",
       "      <th>Private room</th>\n",
       "      <td>130.0</td>\n",
       "      <td>1657.0</td>\n",
       "      <td>25.0</td>\n",
       "      <td>94.0</td>\n",
       "      <td>198.0</td>\n",
       "    </tr>\n",
       "    <tr>\n",
       "      <th>Shared room</th>\n",
       "      <td>75.0</td>\n",
       "      <td>500.0</td>\n",
       "      <td>45.0</td>\n",
       "      <td>66.0</td>\n",
       "      <td>94.0</td>\n",
       "    </tr>\n",
       "  </tbody>\n",
       "</table>\n",
       "</div>"
      ],
      "text/plain": [
       "                 price                            \n",
       "                median     max   min     q1     q3\n",
       "room_type                                         \n",
       "Entire home/apt  200.0  7900.0  15.0  143.0  285.0\n",
       "Hotel room       222.0   999.0   0.0  114.5  271.0\n",
       "Private room     130.0  1657.0  25.0   94.0  198.0\n",
       "Shared room       75.0   500.0  45.0   66.0   94.0"
      ]
     },
     "execution_count": 681,
     "metadata": {},
     "output_type": "execute_result"
    }
   ],
   "source": [
    "df_bordeaux[[\"price\",\"room_type\"]].groupby('room_type').agg([\"median\",\"max\",\"min\",q1,q3])"
   ]
  },
  {
   "cell_type": "markdown",
   "metadata": {},
   "source": [
    "### Question n°6"
   ]
  },
  {
   "cell_type": "code",
   "execution_count": 685,
   "metadata": {},
   "outputs": [
    {
     "data": {
      "text/plain": [
       "array(['1.5 shared baths', '1 private bath', '1.5 baths', '1 shared bath',\n",
       "       '1 bath', '2.5 baths', '3.5 baths', nan, '0 baths',\n",
       "       'Private half-bath', '2 baths', '3 baths', '0 shared baths',\n",
       "       'Half-bath', 'Shared half-bath', '5 baths', '2 shared baths',\n",
       "       '5.5 baths', '4 baths', '4.5 baths', '4 shared baths',\n",
       "       '3 shared baths', '17 baths', '3.5 shared baths'], dtype=object)"
      ]
     },
     "execution_count": 685,
     "metadata": {},
     "output_type": "execute_result"
    }
   ],
   "source": [
    "df_bordeaux[\"bathrooms_text\"].unique()"
   ]
  },
  {
   "cell_type": "code",
   "execution_count": null,
   "metadata": {},
   "outputs": [],
   "source": []
  }
 ],
 "metadata": {
  "kernelspec": {
   "display_name": "Python 3.9.15 ('envdata')",
   "language": "python",
   "name": "python3"
  },
  "language_info": {
   "codemirror_mode": {
    "name": "ipython",
    "version": 3
   },
   "file_extension": ".py",
   "mimetype": "text/x-python",
   "name": "python",
   "nbconvert_exporter": "python",
   "pygments_lexer": "ipython3",
   "version": "3.9.15"
  },
  "orig_nbformat": 4,
  "vscode": {
   "interpreter": {
    "hash": "8a7d6de6d4c96ae5c9259ec6c5c5b0ed2327d657731542d2a999ddfbc99a240c"
   }
  }
 },
 "nbformat": 4,
 "nbformat_minor": 2
}
