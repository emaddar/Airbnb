{
 "cells": [
  {
   "cell_type": "code",
   "execution_count": 10,
   "metadata": {},
   "outputs": [],
   "source": [
    "import pandas as pd"
   ]
  },
  {
   "cell_type": "code",
   "execution_count": 11,
   "metadata": {},
   "outputs": [],
   "source": [
    "for city in [\"paris\",\"bordeaux\",\"pays_basque\",'lyon']:\n",
    "    df = pd.read_csv(f\"CSV/{city}/listings_{city}.csv\")\n",
    "    df = df[['id',\n",
    "       'description',  'host_id',\n",
    "       'host_name','host_response_rate', 'host_acceptance_rate',\n",
    "       'host_verifications',\n",
    "       'neighbourhood_cleansed', 'latitude',\n",
    "       'longitude', 'room_type','bathrooms',\n",
    "       'bathrooms_text', 'amenities', 'price',\n",
    "       'number_of_reviews']]\n",
    "    df.to_csv(f\"CSV/{city}/listings_{city}.csv\")"
   ]
  }
 ],
 "metadata": {
  "kernelspec": {
   "display_name": "Python 3.9.15 ('envdata')",
   "language": "python",
   "name": "python3"
  },
  "language_info": {
   "codemirror_mode": {
    "name": "ipython",
    "version": 3
   },
   "file_extension": ".py",
   "mimetype": "text/x-python",
   "name": "python",
   "nbconvert_exporter": "python",
   "pygments_lexer": "ipython3",
   "version": "3.9.15"
  },
  "orig_nbformat": 4,
  "vscode": {
   "interpreter": {
    "hash": "8a7d6de6d4c96ae5c9259ec6c5c5b0ed2327d657731542d2a999ddfbc99a240c"
   }
  }
 },
 "nbformat": 4,
 "nbformat_minor": 2
}
