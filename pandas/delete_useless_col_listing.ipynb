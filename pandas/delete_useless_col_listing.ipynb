{
 "cells": [
  {
   "cell_type": "code",
   "execution_count": 1,
   "metadata": {},
   "outputs": [],
   "source": [
    "import pandas as pd"
   ]
  },
  {
   "cell_type": "code",
   "execution_count": 2,
   "metadata": {},
   "outputs": [],
   "source": [
    "for city in [\"paris\",\"bordeaux\",\"pays_basque\",'lyon',\"amsterdam\",\"antwerp\",\"bristol\",\"brussels\",\"ghent\",\"edinburgh\",\"greater_manchester\",\"london\",\"rotterdam\",\"the_hague\"]:\n",
    "    df = pd.read_csv(f\"CSV/{city}/listings_{city}.csv\")\n",
    "    df = df[['id',\n",
    "       'description',  'host_id',\n",
    "       'host_name','host_response_rate', 'host_acceptance_rate',\n",
    "       'host_verifications',\n",
    "       'neighbourhood_cleansed', 'latitude',\n",
    "       'longitude', 'room_type','bathrooms',\n",
    "       'bathrooms_text', 'amenities', 'price',\n",
    "       'number_of_reviews']]\n",
    "    df.to_csv(f\"CSV/{city}/listings_{city}.csv\")"
   ]
  }
 ],
 "metadata": {
  "kernelspec": {
   "display_name": "Python 3.9.12 ('base')",
   "language": "python",
   "name": "python3"
  },
  "language_info": {
   "codemirror_mode": {
    "name": "ipython",
    "version": 3
   },
   "file_extension": ".py",
   "mimetype": "text/x-python",
   "name": "python",
   "nbconvert_exporter": "python",
   "pygments_lexer": "ipython3",
   "version": "3.9.12"
  },
  "orig_nbformat": 4,
  "vscode": {
   "interpreter": {
    "hash": "d25f34363254810493f69e19f8fea8925d807b842d2c9e5aec83143d940402f1"
   }
  }
 },
 "nbformat": 4,
 "nbformat_minor": 2
}
