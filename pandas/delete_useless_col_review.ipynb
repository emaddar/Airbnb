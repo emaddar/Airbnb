{
 "cells": [
  {
   "cell_type": "code",
   "execution_count": 1,
   "metadata": {},
   "outputs": [],
   "source": [
    "import pandas as pd"
   ]
  },
  {
   "cell_type": "code",
   "execution_count": 2,
   "metadata": {},
   "outputs": [],
   "source": [
    "for city in [\"paris\",\"bordeaux\",\"pays_basque\",'lyon',\"amsterdam\",\"antwerp\",\"bristol\",\"brussels\",\"ghent\",\"edinburgh\",\"greater_manchester\",\"london\",\"rotterdam\",\"the_hague\"]:\n",
    "    df = pd.read_csv(f\"CSV/{city}/reviews_{city}.csv\")\n",
    "    df = df[['listing_id', 'id', 'date', 'reviewer_id', 'reviewer_name']]\n",
    "    df.to_csv(f\"CSV/{city}/reviews_{city}.csv\",index=False)\n"
   ]
  }
 ],
 "metadata": {
  "kernelspec": {
   "display_name": "Python 3.9.12 ('base')",
   "language": "python",
   "name": "python3"
  },
  "language_info": {
   "codemirror_mode": {
    "name": "ipython",
    "version": 3
   },
   "file_extension": ".py",
   "mimetype": "text/x-python",
   "name": "python",
   "nbconvert_exporter": "python",
   "pygments_lexer": "ipython3",
   "version": "3.9.12"
  },
  "orig_nbformat": 4,
  "vscode": {
   "interpreter": {
    "hash": "d25f34363254810493f69e19f8fea8925d807b842d2c9e5aec83143d940402f1"
   }
  }
 },
 "nbformat": 4,
 "nbformat_minor": 2
}
